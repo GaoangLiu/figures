{
 "cells": [
  {
   "cell_type": "code",
   "execution_count": 1,
   "metadata": {},
   "outputs": [],
   "source": [
    "import pandas as pd\n",
    "pd.set_option('display.max_columns', None)\n",
    "\n",
    "# duplicated\n",
    "df0 = pd.read_csv('city_dict.csv')\n",
    "df0\n",
    "\n",
    "df1 = pd.read_csv('main.csv', usecols=['MIS', 'citycode'])\n",
    "# df1[df1.citycode.isnull()]\n",
    "df1.dropna(subset=['citycode'], inplace=True)\n",
    "df1['citycode'] = df1.citycode.astype(int)\n",
    "df1\n",
    "\n",
    "df_merged = pd.merge(df1, df0, on=['citycode'], how='left')\n",
    "df_merged.dropna(subset=['City'], inplace=True)\n",
    "df_merged['MIS'] = df_merged['MIS'].astype('str')\n",
    "\n",
    "df_mis = pd.read_csv('survey.csv')\n",
    "df_mis['MIS'] = df_mis['MIS'].astype('str')\n",
    "df_mis_merged = pd.merge(df_mis, df_merged, on=['MIS'], how='left')\n",
    "df_mis_merged[df_mis_merged.City.isnull()].count()\n",
    "df_mis_merged.to_excel('mis_merged.xlsx', sheet_name='merged', index=False)\n",
    "print('Done')"
   ]
  },
  {
   "cell_type": "code",
   "execution_count": 3,
   "metadata": {},
   "outputs": [
    {
     "name": "stdout",
     "output_type": "stream",
     "text": [
      "main.ipynb       wenjuancity.xlsx\r\n"
     ]
    }
   ],
   "source": [
    "!ls"
   ]
  },
  {
   "cell_type": "code",
   "execution_count": 23,
   "metadata": {},
   "outputs": [
    {
     "data": {
      "text/html": [
       "<div>\n",
       "<style scoped>\n",
       "    .dataframe tbody tr th:only-of-type {\n",
       "        vertical-align: middle;\n",
       "    }\n",
       "\n",
       "    .dataframe tbody tr th {\n",
       "        vertical-align: top;\n",
       "    }\n",
       "\n",
       "    .dataframe thead th {\n",
       "        text-align: right;\n",
       "    }\n",
       "</style>\n",
       "<table border=\"1\" class=\"dataframe\">\n",
       "  <thead>\n",
       "    <tr style=\"text-align: right;\">\n",
       "      <th></th>\n",
       "      <th>Province</th>\n",
       "      <th>City</th>\n",
       "      <th>citycode</th>\n",
       "    </tr>\n",
       "  </thead>\n",
       "  <tbody>\n",
       "    <tr>\n",
       "      <th>0</th>\n",
       "      <td>上海</td>\n",
       "      <td>上海</td>\n",
       "      <td>21</td>\n",
       "    </tr>\n",
       "    <tr>\n",
       "      <th>1</th>\n",
       "      <td>北京</td>\n",
       "      <td>北京</td>\n",
       "      <td>10</td>\n",
       "    </tr>\n",
       "    <tr>\n",
       "      <th>2</th>\n",
       "      <td>广东</td>\n",
       "      <td>广州</td>\n",
       "      <td>20</td>\n",
       "    </tr>\n",
       "    <tr>\n",
       "      <th>3</th>\n",
       "      <td>广东</td>\n",
       "      <td>深圳</td>\n",
       "      <td>755</td>\n",
       "    </tr>\n",
       "    <tr>\n",
       "      <th>4</th>\n",
       "      <td>四川</td>\n",
       "      <td>成都</td>\n",
       "      <td>28</td>\n",
       "    </tr>\n",
       "    <tr>\n",
       "      <th>...</th>\n",
       "      <td>...</td>\n",
       "      <td>...</td>\n",
       "      <td>...</td>\n",
       "    </tr>\n",
       "    <tr>\n",
       "      <th>192</th>\n",
       "      <td>浙江</td>\n",
       "      <td>岱山 in 舟山</td>\n",
       "      <td>1580</td>\n",
       "    </tr>\n",
       "    <tr>\n",
       "      <th>193</th>\n",
       "      <td>浙江</td>\n",
       "      <td>北仑 in 宁波</td>\n",
       "      <td>1574</td>\n",
       "    </tr>\n",
       "    <tr>\n",
       "      <th>194</th>\n",
       "      <td>吉林</td>\n",
       "      <td>长春</td>\n",
       "      <td>431</td>\n",
       "    </tr>\n",
       "    <tr>\n",
       "      <th>195</th>\n",
       "      <td>甘肃</td>\n",
       "      <td>定西</td>\n",
       "      <td>932</td>\n",
       "    </tr>\n",
       "    <tr>\n",
       "      <th>196</th>\n",
       "      <td>黑龙江</td>\n",
       "      <td>哈尔滨</td>\n",
       "      <td>451</td>\n",
       "    </tr>\n",
       "  </tbody>\n",
       "</table>\n",
       "<p>197 rows × 3 columns</p>\n",
       "</div>"
      ],
      "text/plain": [
       "    Province      City  citycode\n",
       "0         上海        上海        21\n",
       "1         北京        北京        10\n",
       "2         广东        广州        20\n",
       "3         广东        深圳       755\n",
       "4         四川        成都        28\n",
       "..       ...       ...       ...\n",
       "192       浙江  岱山 in 舟山      1580\n",
       "193       浙江  北仑 in 宁波      1574\n",
       "194       吉林        长春       431\n",
       "195       甘肃        定西       932\n",
       "196      黑龙江       哈尔滨       451\n",
       "\n",
       "[197 rows x 3 columns]"
      ]
     },
     "execution_count": 23,
     "metadata": {},
     "output_type": "execute_result"
    }
   ],
   "source": [
    "df0 = pd.read_csv('city_dict.csv')\n",
    "df0"
   ]
  },
  {
   "cell_type": "code",
   "execution_count": 53,
   "metadata": {},
   "outputs": [],
   "source": [
    "df_merged = pd.merge(df1, df0, on=['citycode'], how='left')\n",
    "df_merged.dropna(subset=['City'], inplace=True)\n",
    "df_merged['MIS'] = df_merged['MIS'].astype('str')\n",
    "# df_merged.to_excel('merged.xlsx', sheet_name='city_merged')\n",
    "# print(\"Done\")"
   ]
  },
  {
   "cell_type": "code",
   "execution_count": 37,
   "metadata": {},
   "outputs": [
    {
     "data": {
      "text/html": [
       "<div>\n",
       "<style scoped>\n",
       "    .dataframe tbody tr th:only-of-type {\n",
       "        vertical-align: middle;\n",
       "    }\n",
       "\n",
       "    .dataframe tbody tr th {\n",
       "        vertical-align: top;\n",
       "    }\n",
       "\n",
       "    .dataframe thead th {\n",
       "        text-align: right;\n",
       "    }\n",
       "</style>\n",
       "<table border=\"1\" class=\"dataframe\">\n",
       "  <thead>\n",
       "    <tr style=\"text-align: right;\">\n",
       "      <th></th>\n",
       "      <th>MIS</th>\n",
       "      <th>citycode</th>\n",
       "    </tr>\n",
       "  </thead>\n",
       "  <tbody>\n",
       "    <tr>\n",
       "      <th>0</th>\n",
       "      <td>325548461</td>\n",
       "      <td>731.0</td>\n",
       "    </tr>\n",
       "    <tr>\n",
       "      <th>1</th>\n",
       "      <td>2903463657</td>\n",
       "      <td>777.0</td>\n",
       "    </tr>\n",
       "    <tr>\n",
       "      <th>2</th>\n",
       "      <td>98950465</td>\n",
       "      <td>663.0</td>\n",
       "    </tr>\n",
       "    <tr>\n",
       "      <th>3</th>\n",
       "      <td>81699595</td>\n",
       "      <td>28.0</td>\n",
       "    </tr>\n",
       "    <tr>\n",
       "      <th>4</th>\n",
       "      <td>33306263</td>\n",
       "      <td>24.0</td>\n",
       "    </tr>\n",
       "    <tr>\n",
       "      <th>...</th>\n",
       "      <td>...</td>\n",
       "      <td>...</td>\n",
       "    </tr>\n",
       "    <tr>\n",
       "      <th>19757</th>\n",
       "      <td>692911827</td>\n",
       "      <td>1774.0</td>\n",
       "    </tr>\n",
       "    <tr>\n",
       "      <th>19758</th>\n",
       "      <td>oA0CEwL2lZI0LdxSR9BLh0YRZ7es</td>\n",
       "      <td>757.0</td>\n",
       "    </tr>\n",
       "    <tr>\n",
       "      <th>19759</th>\n",
       "      <td>287946178</td>\n",
       "      <td>411.0</td>\n",
       "    </tr>\n",
       "    <tr>\n",
       "      <th>19760</th>\n",
       "      <td>1955555630</td>\n",
       "      <td>533.0</td>\n",
       "    </tr>\n",
       "    <tr>\n",
       "      <th>19761</th>\n",
       "      <td>NaN</td>\n",
       "      <td>NaN</td>\n",
       "    </tr>\n",
       "  </tbody>\n",
       "</table>\n",
       "<p>19762 rows × 2 columns</p>\n",
       "</div>"
      ],
      "text/plain": [
       "                                MIS  citycode\n",
       "0                         325548461     731.0\n",
       "1                        2903463657     777.0\n",
       "2                          98950465     663.0\n",
       "3                          81699595      28.0\n",
       "4                          33306263      24.0\n",
       "...                             ...       ...\n",
       "19757                     692911827    1774.0\n",
       "19758  oA0CEwL2lZI0LdxSR9BLh0YRZ7es     757.0\n",
       "19759                     287946178     411.0\n",
       "19760                    1955555630     533.0\n",
       "19761                           NaN       NaN\n",
       "\n",
       "[19762 rows x 2 columns]"
      ]
     },
     "execution_count": 37,
     "metadata": {},
     "output_type": "execute_result"
    }
   ],
   "source": [
    "df1 = pd.read_csv('main.csv', usecols=['MIS', 'citycode'])\n",
    "# df1[df1.citycode.isnull()]\n",
    "df1.dropna(subset=['citycode'], inplace=True)\n",
    "df1['citycode'] = df1.citycode.astype(int)\n",
    "df1"
   ]
  },
  {
   "cell_type": "code",
   "execution_count": 46,
   "metadata": {},
   "outputs": [
    {
     "data": {
      "text/html": [
       "<div>\n",
       "<style scoped>\n",
       "    .dataframe tbody tr th:only-of-type {\n",
       "        vertical-align: middle;\n",
       "    }\n",
       "\n",
       "    .dataframe tbody tr th {\n",
       "        vertical-align: top;\n",
       "    }\n",
       "\n",
       "    .dataframe thead th {\n",
       "        text-align: right;\n",
       "    }\n",
       "</style>\n",
       "<table border=\"1\" class=\"dataframe\">\n",
       "  <thead>\n",
       "    <tr style=\"text-align: right;\">\n",
       "      <th></th>\n",
       "      <th>MIS</th>\n",
       "      <th>citycode</th>\n",
       "      <th>Province</th>\n",
       "      <th>City</th>\n",
       "    </tr>\n",
       "  </thead>\n",
       "  <tbody>\n",
       "    <tr>\n",
       "      <th>10068</th>\n",
       "      <td>667204394</td>\n",
       "      <td>471</td>\n",
       "      <td>内蒙古</td>\n",
       "      <td>呼和浩特</td>\n",
       "    </tr>\n",
       "  </tbody>\n",
       "</table>\n",
       "</div>"
      ],
      "text/plain": [
       "             MIS  citycode Province  City\n",
       "10068  667204394       471      内蒙古  呼和浩特"
      ]
     },
     "execution_count": 46,
     "metadata": {},
     "output_type": "execute_result"
    }
   ],
   "source": [
    "# 667204394\n",
    "df_merged[df_merged.MIS == '667204394']"
   ]
  },
  {
   "cell_type": "code",
   "execution_count": 58,
   "metadata": {},
   "outputs": [
    {
     "name": "stdout",
     "output_type": "stream",
     "text": [
      "Done\n"
     ]
    }
   ],
   "source": [
    "df_mis = pd.read_csv('survey.csv')\n",
    "df_mis['MIS'] = df_mis['MIS'].astype('str')\n",
    "df_mis_merged = pd.merge(df_mis, df_merged, on=['MIS'], how='left')\n",
    "df_mis_merged[df_mis_merged.City.isnull()].count()\n",
    "df_mis_merged.to_excel('mis_merged.xlsx', sheet_name='merged', index=False)\n",
    "print('Done')"
   ]
  }
 ],
 "metadata": {
  "kernelspec": {
   "display_name": "Python 3",
   "language": "python",
   "name": "python3"
  },
  "language_info": {
   "codemirror_mode": {
    "name": "ipython",
    "version": 3
   },
   "file_extension": ".py",
   "mimetype": "text/x-python",
   "name": "python",
   "nbconvert_exporter": "python",
   "pygments_lexer": "ipython3",
   "version": "3.7.7"
  }
 },
 "nbformat": 4,
 "nbformat_minor": 2
}
